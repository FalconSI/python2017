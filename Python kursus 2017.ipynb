{
 "cells": [
  {
   "cell_type": "markdown",
   "metadata": {},
   "source": [
    "# Python kursus 2017\n",
    "\n",
    "Introduktionskursus til Python 3.X. Dette er for den totale NOOB så alle kan følge med.\n"
   ]
  },
  {
   "cell_type": "markdown",
   "metadata": {},
   "source": [
    "Det første vi skal vide noget om i alle programmeringssprog er vores kære varialer. Vores varibler er beholdere der indeholder forskellige former for data. \n",
    "\n",
    "Hvad er data og hvad er data typer?\n",
    "\n",
    "Hvordan fundhgere i Python i forhold til andre sprog er lidt anderledes.\n",
    "\n",
    "\n",
    "\n"
   ]
  },
  {
   "cell_type": "code",
   "execution_count": 1,
   "metadata": {},
   "outputs": [],
   "source": [
    "# Havelåge er kommentere og vil ikke blive kørt. Der findes ikke som i andre sprog såkaldte block comments så det er # per linie.\n",
    "\n"
   ]
  },
  {
   "cell_type": "code",
   "execution_count": 5,
   "metadata": {},
   "outputs": [],
   "source": [
    "# Variabbler i Python\n",
    "\n",
    "# Variabler er kønsløse\n",
    "# Integer altså heltal\n",
    "en_int = 2\n",
    "\n",
    "# Pas på man kan ændre det uden advarsler\n",
    "et_navn = 2.2\n",
    "\n",
    "en_float = 3.5\n",
    "\n",
    "en_string = \"Hej\"\n",
    "\n",
    "en_bool = False\n",
    "\n",
    "# Typecasting findes også i Python\n",
    "en_float = int(3.5)"
   ]
  },
  {
   "cell_type": "code",
   "execution_count": 6,
   "metadata": {},
   "outputs": [
    {
     "name": "stdout",
     "output_type": "stream",
     "text": [
      "2\n",
      "2.2\n",
      "3\n",
      "Hej\n",
      "False\n"
     ]
    }
   ],
   "source": [
    "# Alt det her er jo meget god, men vi kan ikke se en skid.\n",
    "#For at printe resultater osv bruger vi print.\n",
    "\n",
    "print(en_int)\n",
    "print(et_navn)\n",
    "print(en_float)\n",
    "print(en_string)\n",
    "print(en_bool)"
   ]
  },
  {
   "cell_type": "code",
   "execution_count": 8,
   "metadata": {},
   "outputs": [
    {
     "name": "stdout",
     "output_type": "stream",
     "text": [
      "<class 'int'>\n"
     ]
    }
   ],
   "source": [
    "#For at checke hvad vores variabler indeholder kan vi brige funktionen Type.\n",
    "print(type(en_int))"
   ]
  },
  {
   "cell_type": "code",
   "execution_count": 9,
   "metadata": {},
   "outputs": [
    {
     "name": "stdout",
     "output_type": "stream",
     "text": [
      "Hvor gammel er det lige Roland er? 5\n"
     ]
    }
   ],
   "source": [
    "#Det findes en funktion der gør det rigtig nemt at få data ind der kaldes input().\n",
    "\n",
    "a = input(\"Hvor gammel er det lige Roland er? \")"
   ]
  },
  {
   "cell_type": "code",
   "execution_count": 10,
   "metadata": {},
   "outputs": [
    {
     "name": "stdout",
     "output_type": "stream",
     "text": [
      "5\n"
     ]
    }
   ],
   "source": [
    "print(a)"
   ]
  },
  {
   "cell_type": "markdown",
   "metadata": {},
   "source": [
    "### Opgave\n",
    "\n",
    "Brug jeres viden om variabler og lav en lille lommeregner der kan plus, minus, gnage og dividere.\n",
    "\n",
    "Brug f.eks. input() til at indtaste forskellige tal.\n",
    "\n",
    "Hint husk at bruge type() hvis det driller ;)"
   ]
  },
  {
   "cell_type": "code",
   "execution_count": 16,
   "metadata": {},
   "outputs": [
    {
     "name": "stdout",
     "output_type": "stream",
     "text": [
      "Første tal: 3\n",
      "Andet tal: 1\n",
      "4\n",
      "2\n",
      "3\n",
      "3.0\n"
     ]
    }
   ],
   "source": [
    "# Eksempel\n",
    "\n",
    "a = int(input(\"Første tal: \"))\n",
    "b = int(input(\"Andet tal: \"))\n",
    "\n",
    "print(a + b)\n",
    "print(a - b)\n",
    "print(a * b)\n",
    "print(a / b)"
   ]
  },
  {
   "cell_type": "code",
   "execution_count": 21,
   "metadata": {},
   "outputs": [
    {
     "name": "stdout",
     "output_type": "stream",
     "text": [
      "Hej\n"
     ]
    }
   ],
   "source": [
    "# Scope er noget anderledes i Python end i andre sprog der bruges ikke {}\n",
    "\n",
    "if a > b:\n",
    "    print(\"Hej\")\n",
    "    #Det her er med\n",
    "# Det her er ikke med\n",
    "elif a == b:\n",
    "    pass\n",
    "else:\n",
    "    print(\"Nej\")\n"
   ]
  },
  {
   "cell_type": "code",
   "execution_count": null,
   "metadata": {},
   "outputs": [],
   "source": [
    "# Funktioner "
   ]
  },
  {
   "cell_type": "code",
   "execution_count": 24,
   "metadata": {},
   "outputs": [
    {
     "name": "stdout",
     "output_type": "stream",
     "text": [
      "4\n",
      "-2\n",
      "3\n",
      "0.3333333333333333\n"
     ]
    }
   ],
   "source": [
    "def lommeregner(a, b):\n",
    "    print(a + b)\n",
    "    print(a - b)\n",
    "    print(a * b)\n",
    "    print(a / b)\n",
    "    \n",
    "lommeregner(1,3)"
   ]
  },
  {
   "cell_type": "code",
   "execution_count": 28,
   "metadata": {},
   "outputs": [],
   "source": [
    "def smart_calc():\n",
    "    a = int(input(\"Første tal: \"))\n",
    "    b = int(input(\"Andent tal: \"))\n",
    "    operation = input(\"+, -, *, /: \")\n",
    "    \n",
    "    if operation == \"+\":\n",
    "        print(a + b)\n",
    "        \n",
    "    else:\n",
    "        print(\"Er du dum eller hva!\")"
   ]
  },
  {
   "cell_type": "code",
   "execution_count": 30,
   "metadata": {},
   "outputs": [
    {
     "name": "stdout",
     "output_type": "stream",
     "text": [
      "Første tal: 3\n",
      "Andent tal: 3\n",
      "+, -, *, /: l\n",
      "Er du dum eller hva!\n"
     ]
    }
   ],
   "source": [
    "smart_calc()"
   ]
  },
  {
   "cell_type": "code",
   "execution_count": null,
   "metadata": {},
   "outputs": [],
   "source": []
  },
  {
   "cell_type": "code",
   "execution_count": null,
   "metadata": {},
   "outputs": [],
   "source": []
  }
 ],
 "metadata": {
  "kernelspec": {
   "display_name": "Python 3",
   "language": "python",
   "name": "python3"
  },
  "language_info": {
   "codemirror_mode": {
    "name": "ipython",
    "version": 3
   },
   "file_extension": ".py",
   "mimetype": "text/x-python",
   "name": "python",
   "nbconvert_exporter": "python",
   "pygments_lexer": "ipython3",
   "version": "3.7.2"
  }
 },
 "nbformat": 4,
 "nbformat_minor": 2
}
